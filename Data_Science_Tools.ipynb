{
 "cells": [
  {
   "cell_type": "markdown",
   "id": "7da1b41b",
   "metadata": {},
   "source": [
    "# Data Science Tools and Languages"
   ]
  },
  {
   "cell_type": "markdown",
   "id": "98a7739c",
   "metadata": {},
   "source": [
    "## Exercise 3 - Introduction\n",
    "This notebook explores various aspects of data science, including the languages, libraries, and tools commonly used in the field. We will also work on some practical coding examples to better understand arithmetic operations and conversions."
   ]
  },
  {
   "cell_type": "markdown",
   "id": "68079ff3",
   "metadata": {},
   "source": [
    "## Exercise 4 - Data Science Languages\n",
    "Here are some common languages used in Data Science:\n",
    "- Python\n",
    "- R\n",
    "- SQL\n",
    "- Java\n",
    "- Scala"
   ]
  },
  {
   "cell_type": "markdown",
   "id": "20b0bf87",
   "metadata": {},
   "source": [
    "## Exercise 5 - Data Science Libraries\n",
    "Data science libraries are crucial for performing various tasks efficiently. Some of the popular libraries include:\n",
    "- Pandas\n",
    "- NumPy\n",
    "- Matplotlib\n",
    "- TensorFlow\n",
    "- Keras\n",
    "- Scikit-learn"
   ]
  },
  {
   "cell_type": "markdown",
   "id": "264a4862",
   "metadata": {},
   "source": [
    "## Exercise 6 - Data Science Tools\n",
    "\n",
    "| Tool           | Category          | Purpose                                             |\n",
    "|----------------|-------------------|-----------------------------------------------------|\n",
    "| Jupyter Notebooks | Development Environment | Interactive computing and data visualization |\n",
    "| Apache Spark   | Data Processing   | Big data processing and analysis                    |\n",
    "| TensorFlow     | Machine Learning  | Deep learning and neural networks                   |\n",
    "| IBM Watson Studio | Machine Learning | AI-powered tools and models for data analysis       |"
   ]
  },
  {
   "cell_type": "markdown",
   "id": "007104dd",
   "metadata": {},
   "source": [
    "## Exercise 7 - Arithmetic Expression Examples\n",
    "In this section, we will introduce some basic arithmetic expressions in Python."
   ]
  },
  {
   "cell_type": "code",
   "execution_count": null,
   "id": "3c475f93",
   "metadata": {},
   "outputs": [],
   "source": [
    "sum_example = 5 + 3\n",
    "multiplication_example = 4 * 2"
   ]
  },
  {
   "cell_type": "markdown",
   "id": "bf7ae187",
   "metadata": {},
   "source": [
    "## Exercise 8 - Multiply and Add Numbers\n",
    "Here is a simple example of multiplying and adding numbers in Python:"
   ]
  },
  {
   "cell_type": "code",
   "execution_count": null,
   "id": "d52b60c4",
   "metadata": {},
   "outputs": [],
   "source": [
    "a = 10\n",
    "b = 5\n",
    "result = a * b + 20\n",
    "result"
   ]
  },
  {
   "cell_type": "markdown",
   "id": "1fa90b54",
   "metadata": {},
   "source": [
    "## Exercise 9 - Convert Minutes to Hours\n",
    "To convert minutes to hours, we can use the following code:"
   ]
  },
  {
   "cell_type": "code",
   "execution_count": null,
   "id": "f9870658",
   "metadata": {},
   "outputs": [],
   "source": [
    "minutes = 150\n",
    "hours = minutes / 60\n",
    "hours"
   ]
  },
  {
   "cell_type": "markdown",
   "id": "d60adcd6",
   "metadata": {},
   "source": [
    "## Exercise 10 - Objectives\n",
    "- Understand key data science languages and libraries.\n",
    "- Learn basic arithmetic expressions in Python.\n",
    "- Gain practical experience with coding in Jupyter notebooks.\n",
    "- Apply Python functions for simple conversions."
   ]
  },
  {
   "cell_type": "markdown",
   "id": "d8e1576c",
   "metadata": {},
   "source": [
    "## Exercise 11 - Author’s Name\n",
    "The author of this notebook is **Tushar Singh**."
   ]
  }
 ],
 "metadata": {},
 "nbformat": 4,
 "nbformat_minor": 5
}
